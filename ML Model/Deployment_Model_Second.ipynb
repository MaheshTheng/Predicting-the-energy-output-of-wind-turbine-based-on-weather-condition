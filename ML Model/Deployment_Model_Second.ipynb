{
 "cells": [
  {
   "cell_type": "markdown",
   "metadata": {},
   "source": [
    "# Importing the libraries"
   ]
  },
  {
   "cell_type": "code",
   "execution_count": 1,
   "metadata": {},
   "outputs": [
    {
     "name": "stdout",
     "output_type": "stream",
     "text": [
      "Collecting scikit-learn==0.19.0\n",
      "\u001b[?25l  Downloading https://files.pythonhosted.org/packages/a4/b3/209652a5d60ce4a2a8a35ad893d7565bbb0f87ce043264ba5c9e7de304cd/scikit_learn-0.19.0-cp36-cp36m-manylinux1_x86_64.whl (12.4MB)\n",
      "\u001b[K     |████████████████████████████████| 12.4MB 5.5MB/s eta 0:00:01\n",
      "\u001b[31mERROR: category-encoders 2.0.0 has requirement scikit-learn>=0.20.0, but you'll have scikit-learn 0.19.0 which is incompatible.\u001b[0m\n",
      "\u001b[31mERROR: autoai-libs 1.10.5 has requirement numpy>=1.16.4, but you'll have numpy 1.15.4 which is incompatible.\u001b[0m\n",
      "\u001b[31mERROR: autoai-libs 1.10.5 has requirement pandas>=0.24.2, but you'll have pandas 0.24.1 which is incompatible.\u001b[0m\n",
      "\u001b[31mERROR: autoai-libs 1.10.5 has requirement scikit-learn==0.20.3, but you'll have scikit-learn 0.19.0 which is incompatible.\u001b[0m\n",
      "\u001b[?25hInstalling collected packages: scikit-learn\n",
      "  Found existing installation: scikit-learn 0.20.3\n",
      "    Uninstalling scikit-learn-0.20.3:\n",
      "      Successfully uninstalled scikit-learn-0.20.3\n",
      "Successfully installed scikit-learn-0.19.0\n"
     ]
    }
   ],
   "source": [
    "!pip install scikit-learn==0.19.0"
   ]
  },
  {
   "cell_type": "raw",
   "metadata": {},
   "source": [
    "{\"trace\":\"km4syb9vwov\",\"errors\":[{\"code\":\"unsupported_framework_details\",\"message\":\"The xgboost version 0.80 is not supported with scikit-learn version 0.20 . Expected scikit-learn version here is 0.19 . Retry deployment after saving model with expected scikit-learn version.\"}]}\n",
    "\n",
    "\n",
    "--------------------------\n",
    "Deployment creation failed\n",
    "--------------------------\n",
    "\n",
    "\n",
    "---------------------------------------------------------------------------\n",
    "WMLClientError                            Traceback (most recent call last)\n",
    "<ipython-input-19-eada7be7f411> in <module>\n",
    "----> 1 deploy = model.deployments.create(guid)\n",
    "\n",
    "/opt/conda/envs/Python36/lib/python3.6/site-packages/watson_machine_learning_client/deployments.py in create(self, artifact_uid, name, description, asynchronous, deployment_type, deployment_format, meta_props, **kwargs)\n",
    "    555                 print(reason)\n",
    "    556                 print_text_header_h2(error_msg)\n",
    "--> 557                 raise WMLClientError(error_msg + '. Error: ' + str(response.status_code) + '. ' + reason)\n",
    "    558 \n",
    "    559     def _create_online(self, model_uid, name, description):\n",
    "\n",
    "WMLClientError: Deployment creation failed. Error: 400. {\"trace\":\"km4syb9vwov\",\"errors\":[{\"code\":\"unsupported_framework_details\",\"message\":\"The xgboost version 0.80 is not supported with scikit-learn version 0.20 . Expected scikit-learn version here is 0.19 . Retry deployment after saving model with expected scikit-learn version.\"}]}\n"
   ]
  },
  {
   "cell_type": "code",
   "execution_count": 2,
   "metadata": {},
   "outputs": [
    {
     "name": "stdout",
     "output_type": "stream",
     "text": [
      "numpy 1.15.4\n",
      "pandas 0.24.1\n",
      "matplotlib 3.0.2\n",
      "seaborn 0.9.0\n"
     ]
    }
   ],
   "source": [
    "import numpy as np\n",
    "import matplotlib.pyplot as plt\n",
    "import pandas as pd\n",
    "import seaborn as sns\n",
    "import matplotlib\n",
    "import sklearn.metrics as metrics\n",
    "import types\n",
    "from botocore.client import Config\n",
    "import ibm_boto3\n",
    "\n",
    "\n",
    "print('numpy', np.__version__)\n",
    "print('pandas', pd.__version__)\n",
    "print('matplotlib', matplotlib.__version__)\n",
    "print('seaborn', sns.__version__)"
   ]
  },
  {
   "cell_type": "markdown",
   "metadata": {},
   "source": [
    "# Importing the dataset"
   ]
  },
  {
   "cell_type": "code",
   "execution_count": 3,
   "metadata": {},
   "outputs": [
    {
     "data": {
      "text/html": [
       "<div>\n",
       "<style scoped>\n",
       "    .dataframe tbody tr th:only-of-type {\n",
       "        vertical-align: middle;\n",
       "    }\n",
       "\n",
       "    .dataframe tbody tr th {\n",
       "        vertical-align: top;\n",
       "    }\n",
       "\n",
       "    .dataframe thead th {\n",
       "        text-align: right;\n",
       "    }\n",
       "</style>\n",
       "<table border=\"1\" class=\"dataframe\">\n",
       "  <thead>\n",
       "    <tr style=\"text-align: right;\">\n",
       "      <th></th>\n",
       "      <th>Date/Time</th>\n",
       "      <th>Wind Speed (m/s)</th>\n",
       "      <th>Theoretical_Power_Curve (KWh)</th>\n",
       "      <th>Wind Direction</th>\n",
       "      <th>maxtempC</th>\n",
       "      <th>windGustKmph</th>\n",
       "      <th>DewPointC</th>\n",
       "      <th>windChillC</th>\n",
       "      <th>humidity</th>\n",
       "      <th>pressure</th>\n",
       "      <th>LV ActivePower</th>\n",
       "    </tr>\n",
       "  </thead>\n",
       "  <tbody>\n",
       "    <tr>\n",
       "      <th>0</th>\n",
       "      <td>2018-01-01 00:00:00</td>\n",
       "      <td>5.311336</td>\n",
       "      <td>416.328908</td>\n",
       "      <td>259.994904</td>\n",
       "      <td>10</td>\n",
       "      <td>11.125</td>\n",
       "      <td>2.208333</td>\n",
       "      <td>6.333333</td>\n",
       "      <td>69.916667</td>\n",
       "      <td>1017.625</td>\n",
       "      <td>380.047791</td>\n",
       "    </tr>\n",
       "    <tr>\n",
       "      <th>1</th>\n",
       "      <td>2018-01-01 00:10:00</td>\n",
       "      <td>5.672167</td>\n",
       "      <td>519.917511</td>\n",
       "      <td>268.641113</td>\n",
       "      <td>10</td>\n",
       "      <td>11.125</td>\n",
       "      <td>2.208333</td>\n",
       "      <td>6.333333</td>\n",
       "      <td>69.916667</td>\n",
       "      <td>1017.625</td>\n",
       "      <td>453.769196</td>\n",
       "    </tr>\n",
       "    <tr>\n",
       "      <th>2</th>\n",
       "      <td>2018-01-01 00:20:00</td>\n",
       "      <td>5.216037</td>\n",
       "      <td>390.900016</td>\n",
       "      <td>272.564789</td>\n",
       "      <td>10</td>\n",
       "      <td>11.125</td>\n",
       "      <td>2.208333</td>\n",
       "      <td>6.333333</td>\n",
       "      <td>69.916667</td>\n",
       "      <td>1017.625</td>\n",
       "      <td>306.376587</td>\n",
       "    </tr>\n",
       "    <tr>\n",
       "      <th>3</th>\n",
       "      <td>2018-01-01 00:30:00</td>\n",
       "      <td>5.659674</td>\n",
       "      <td>516.127569</td>\n",
       "      <td>271.258087</td>\n",
       "      <td>10</td>\n",
       "      <td>11.125</td>\n",
       "      <td>2.208333</td>\n",
       "      <td>6.333333</td>\n",
       "      <td>69.916667</td>\n",
       "      <td>1017.625</td>\n",
       "      <td>419.645905</td>\n",
       "    </tr>\n",
       "    <tr>\n",
       "      <th>4</th>\n",
       "      <td>2018-01-01 00:40:00</td>\n",
       "      <td>5.577941</td>\n",
       "      <td>491.702972</td>\n",
       "      <td>265.674286</td>\n",
       "      <td>10</td>\n",
       "      <td>11.125</td>\n",
       "      <td>2.208333</td>\n",
       "      <td>6.333333</td>\n",
       "      <td>69.916667</td>\n",
       "      <td>1017.625</td>\n",
       "      <td>380.650696</td>\n",
       "    </tr>\n",
       "  </tbody>\n",
       "</table>\n",
       "</div>"
      ],
      "text/plain": [
       "            Date/Time  Wind Speed (m/s)  Theoretical_Power_Curve (KWh)  \\\n",
       "0 2018-01-01 00:00:00          5.311336                     416.328908   \n",
       "1 2018-01-01 00:10:00          5.672167                     519.917511   \n",
       "2 2018-01-01 00:20:00          5.216037                     390.900016   \n",
       "3 2018-01-01 00:30:00          5.659674                     516.127569   \n",
       "4 2018-01-01 00:40:00          5.577941                     491.702972   \n",
       "\n",
       "   Wind Direction  maxtempC  windGustKmph  DewPointC  windChillC   humidity  \\\n",
       "0      259.994904        10        11.125   2.208333    6.333333  69.916667   \n",
       "1      268.641113        10        11.125   2.208333    6.333333  69.916667   \n",
       "2      272.564789        10        11.125   2.208333    6.333333  69.916667   \n",
       "3      271.258087        10        11.125   2.208333    6.333333  69.916667   \n",
       "4      265.674286        10        11.125   2.208333    6.333333  69.916667   \n",
       "\n",
       "   pressure  LV ActivePower  \n",
       "0  1017.625      380.047791  \n",
       "1  1017.625      453.769196  \n",
       "2  1017.625      306.376587  \n",
       "3  1017.625      419.645905  \n",
       "4  1017.625      380.650696  "
      ]
     },
     "execution_count": 3,
     "metadata": {},
     "output_type": "execute_result"
    }
   ],
   "source": [
    "def __iter__(self): return 0\n",
    "\n",
    "# @hidden_cell\n",
    "# The following code accesses a file in your IBM Cloud Object Storage. It includes your credentials.\n",
    "# You might want to remove those credentials before you share the notebook.\n",
    "client_62d16fde9ee64a49b809102844695402 = ibm_boto3.client(service_name='s3',\n",
    "    ibm_api_key_id='XSCASHjDajDxaWQPvUeAapDDHRz6wRS_Hd2vgjN-IDMf',\n",
    "    ibm_auth_endpoint=\"https://iam.cloud.ibm.com/oidc/token\",\n",
    "    config=Config(signature_version='oauth'),\n",
    "    endpoint_url='https://s3.eu-geo.objectstorage.service.networklayer.com')\n",
    "\n",
    "body = client_62d16fde9ee64a49b809102844695402.get_object(Bucket='predictingtheenergyoutputofwindtu-donotdelete-pr-4zv0a0xlcw57fc',Key='Dataset.xlsx')['Body']\n",
    "# add missing __iter__ method, so pandas accepts body as file-like object\n",
    "if not hasattr(body, \"__iter__\"): body.__iter__ = types.MethodType( __iter__, body )\n",
    "\n",
    "dataset = pd.read_excel(body)\n",
    "dataset.head()"
   ]
  },
  {
   "cell_type": "markdown",
   "metadata": {},
   "source": [
    "# Data Preprocessing"
   ]
  },
  {
   "cell_type": "code",
   "execution_count": 4,
   "metadata": {},
   "outputs": [
    {
     "data": {
      "text/html": [
       "<div>\n",
       "<style scoped>\n",
       "    .dataframe tbody tr th:only-of-type {\n",
       "        vertical-align: middle;\n",
       "    }\n",
       "\n",
       "    .dataframe tbody tr th {\n",
       "        vertical-align: top;\n",
       "    }\n",
       "\n",
       "    .dataframe thead th {\n",
       "        text-align: right;\n",
       "    }\n",
       "</style>\n",
       "<table border=\"1\" class=\"dataframe\">\n",
       "  <thead>\n",
       "    <tr style=\"text-align: right;\">\n",
       "      <th></th>\n",
       "      <th>Date/Time</th>\n",
       "      <th>Minute</th>\n",
       "      <th>Hour</th>\n",
       "      <th>Day</th>\n",
       "      <th>Month</th>\n",
       "      <th>Year</th>\n",
       "      <th>Wind Speed (m/s)</th>\n",
       "      <th>Theoretical_Power_Curve (KWh)</th>\n",
       "      <th>Wind Direction</th>\n",
       "      <th>maxtempC</th>\n",
       "      <th>windGustKmph</th>\n",
       "      <th>DewPointC</th>\n",
       "      <th>windChillC</th>\n",
       "      <th>humidity</th>\n",
       "      <th>pressure</th>\n",
       "      <th>LV ActivePower</th>\n",
       "    </tr>\n",
       "  </thead>\n",
       "  <tbody>\n",
       "    <tr>\n",
       "      <th>0</th>\n",
       "      <td>2018-01-01 00:00:00</td>\n",
       "      <td>0</td>\n",
       "      <td>0</td>\n",
       "      <td>1</td>\n",
       "      <td>1</td>\n",
       "      <td>2018</td>\n",
       "      <td>5.311336</td>\n",
       "      <td>416.328908</td>\n",
       "      <td>259.994904</td>\n",
       "      <td>10</td>\n",
       "      <td>11.125</td>\n",
       "      <td>2.208333</td>\n",
       "      <td>6.333333</td>\n",
       "      <td>69.916667</td>\n",
       "      <td>1017.625</td>\n",
       "      <td>380.047791</td>\n",
       "    </tr>\n",
       "    <tr>\n",
       "      <th>1</th>\n",
       "      <td>2018-01-01 00:10:00</td>\n",
       "      <td>10</td>\n",
       "      <td>0</td>\n",
       "      <td>1</td>\n",
       "      <td>1</td>\n",
       "      <td>2018</td>\n",
       "      <td>5.672167</td>\n",
       "      <td>519.917511</td>\n",
       "      <td>268.641113</td>\n",
       "      <td>10</td>\n",
       "      <td>11.125</td>\n",
       "      <td>2.208333</td>\n",
       "      <td>6.333333</td>\n",
       "      <td>69.916667</td>\n",
       "      <td>1017.625</td>\n",
       "      <td>453.769196</td>\n",
       "    </tr>\n",
       "    <tr>\n",
       "      <th>2</th>\n",
       "      <td>2018-01-01 00:20:00</td>\n",
       "      <td>20</td>\n",
       "      <td>0</td>\n",
       "      <td>1</td>\n",
       "      <td>1</td>\n",
       "      <td>2018</td>\n",
       "      <td>5.216037</td>\n",
       "      <td>390.900016</td>\n",
       "      <td>272.564789</td>\n",
       "      <td>10</td>\n",
       "      <td>11.125</td>\n",
       "      <td>2.208333</td>\n",
       "      <td>6.333333</td>\n",
       "      <td>69.916667</td>\n",
       "      <td>1017.625</td>\n",
       "      <td>306.376587</td>\n",
       "    </tr>\n",
       "    <tr>\n",
       "      <th>3</th>\n",
       "      <td>2018-01-01 00:30:00</td>\n",
       "      <td>30</td>\n",
       "      <td>0</td>\n",
       "      <td>1</td>\n",
       "      <td>1</td>\n",
       "      <td>2018</td>\n",
       "      <td>5.659674</td>\n",
       "      <td>516.127569</td>\n",
       "      <td>271.258087</td>\n",
       "      <td>10</td>\n",
       "      <td>11.125</td>\n",
       "      <td>2.208333</td>\n",
       "      <td>6.333333</td>\n",
       "      <td>69.916667</td>\n",
       "      <td>1017.625</td>\n",
       "      <td>419.645905</td>\n",
       "    </tr>\n",
       "    <tr>\n",
       "      <th>4</th>\n",
       "      <td>2018-01-01 00:40:00</td>\n",
       "      <td>40</td>\n",
       "      <td>0</td>\n",
       "      <td>1</td>\n",
       "      <td>1</td>\n",
       "      <td>2018</td>\n",
       "      <td>5.577941</td>\n",
       "      <td>491.702972</td>\n",
       "      <td>265.674286</td>\n",
       "      <td>10</td>\n",
       "      <td>11.125</td>\n",
       "      <td>2.208333</td>\n",
       "      <td>6.333333</td>\n",
       "      <td>69.916667</td>\n",
       "      <td>1017.625</td>\n",
       "      <td>380.650696</td>\n",
       "    </tr>\n",
       "  </tbody>\n",
       "</table>\n",
       "</div>"
      ],
      "text/plain": [
       "            Date/Time  Minute  Hour  Day  Month  Year  Wind Speed (m/s)  \\\n",
       "0 2018-01-01 00:00:00       0     0    1      1  2018          5.311336   \n",
       "1 2018-01-01 00:10:00      10     0    1      1  2018          5.672167   \n",
       "2 2018-01-01 00:20:00      20     0    1      1  2018          5.216037   \n",
       "3 2018-01-01 00:30:00      30     0    1      1  2018          5.659674   \n",
       "4 2018-01-01 00:40:00      40     0    1      1  2018          5.577941   \n",
       "\n",
       "   Theoretical_Power_Curve (KWh)  Wind Direction  maxtempC  windGustKmph  \\\n",
       "0                     416.328908      259.994904        10        11.125   \n",
       "1                     519.917511      268.641113        10        11.125   \n",
       "2                     390.900016      272.564789        10        11.125   \n",
       "3                     516.127569      271.258087        10        11.125   \n",
       "4                     491.702972      265.674286        10        11.125   \n",
       "\n",
       "   DewPointC  windChillC   humidity  pressure  LV ActivePower  \n",
       "0   2.208333    6.333333  69.916667  1017.625      380.047791  \n",
       "1   2.208333    6.333333  69.916667  1017.625      453.769196  \n",
       "2   2.208333    6.333333  69.916667  1017.625      306.376587  \n",
       "3   2.208333    6.333333  69.916667  1017.625      419.645905  \n",
       "4   2.208333    6.333333  69.916667  1017.625      380.650696  "
      ]
     },
     "execution_count": 4,
     "metadata": {},
     "output_type": "execute_result"
    }
   ],
   "source": [
    "# Separating Date and Time\n",
    "dataset['Date/Time'] = pd.to_datetime(dataset['Date/Time'],format='%d %m %Y %H:%M')\n",
    "dataset['Hour'] = dataset['Date/Time'].dt.hour\n",
    "dataset['Minute'] = dataset['Date/Time'].dt.minute\n",
    "dataset['Day'] = dataset['Date/Time'].dt.day\n",
    "dataset['Month'] = dataset['Date/Time'].dt.month\n",
    "dataset['Year'] = dataset['Date/Time'].dt.year\n",
    "dataset = dataset.reindex(columns = ['Date/Time', 'Minute', 'Hour', 'Day', 'Month', 'Year', 'Wind Speed (m/s)' ,'Theoretical_Power_Curve (KWh)',\n",
    "                                     'Wind Direction', 'maxtempC', 'windGustKmph', 'DewPointC', 'windChillC', 'humidity', 'pressure',\n",
    "                                     'LV ActivePower'])\n",
    "dataset.head()"
   ]
  },
  {
   "cell_type": "code",
   "execution_count": 5,
   "metadata": {},
   "outputs": [
    {
     "data": {
      "text/plain": [
       "(50530, 16)"
      ]
     },
     "execution_count": 5,
     "metadata": {},
     "output_type": "execute_result"
    }
   ],
   "source": [
    "dataset.shape"
   ]
  },
  {
   "cell_type": "code",
   "execution_count": 6,
   "metadata": {},
   "outputs": [
    {
     "name": "stdout",
     "output_type": "stream",
     "text": [
      "Shape of X = (50530, 14)\n",
      "Shape of y = (50530,)\n"
     ]
    }
   ],
   "source": [
    "# Splitting the dataset into X and Y\n",
    "X = dataset.iloc[:, 1:15].values\n",
    "y = dataset.iloc[:, -1].values\n",
    "print('Shape of X =', X.shape)\n",
    "print('Shape of y =', y.shape)"
   ]
  },
  {
   "cell_type": "code",
   "execution_count": 7,
   "metadata": {},
   "outputs": [],
   "source": [
    "# Feature Scaling\n",
    "from sklearn.preprocessing import StandardScaler\n",
    "sc_X = StandardScaler()\n",
    "X = sc_X.fit_transform(X)"
   ]
  },
  {
   "cell_type": "markdown",
   "metadata": {},
   "source": [
    "# Fitting xgboost Regression to the dataset"
   ]
  },
  {
   "cell_type": "code",
   "execution_count": 8,
   "metadata": {},
   "outputs": [
    {
     "data": {
      "text/plain": [
       "XGBRegressor(base_score=0.6, booster='gbtree', colsample_bylevel=1,\n",
       "       colsample_bytree=1, gamma=0, learning_rate=0.1, max_delta_step=0,\n",
       "       max_depth=3, min_child_weight=1, missing=None, n_estimators=60,\n",
       "       n_jobs=-1, nthread=None, objective='reg:linear', random_state=0,\n",
       "       reg_alpha=0, reg_lambda=1, scale_pos_weight=1, seed=None,\n",
       "       silent=True, subsample=1)"
      ]
     },
     "execution_count": 8,
     "metadata": {},
     "output_type": "execute_result"
    }
   ],
   "source": [
    "# Refitting xgboost Regression to the dataset\n",
    "import xgboost as xgb\n",
    "xgbr = xgb.XGBRegressor(base_score=0.6, booster='gbtree', n_estimators=60, n_jobs= -1)\n",
    "xgbr.fit(X, y)"
   ]
  },
  {
   "cell_type": "code",
   "execution_count": null,
   "metadata": {},
   "outputs": [],
   "source": [
    "# Applying k-Fold Cross Validation (Which has lower RMSE)\n",
    "from sklearn.model_selection import cross_val_score\n",
    "accuracies = cross_val_score(estimator = xgbr, X = X, y = y, cv = 10)\n",
    "print('Accuracies mean = ',accuracies.mean())\n",
    "print('Accuracies standard deviation = ' ,accuracies.std())"
   ]
  },
  {
   "cell_type": "markdown",
   "metadata": {},
   "source": [
    "# Predciting Power from Custom User Input value"
   ]
  },
  {
   "cell_type": "code",
   "execution_count": 10,
   "metadata": {},
   "outputs": [],
   "source": [
    "inputs = {0:'Minute', 1:'Hour', 2:'Day', 3:'Month', 4:'Year', 5:'Wind Speed (m/s)', 6:'Theoretical_Power_Curve (KWh)',\n",
    "          7:'Wind Direction', 8:'maxtempC', 9:'windGustKmph', 10:'DewPointC', 11:'windChillC', 12:'humidity',\n",
    "          13:'pressure'}"
   ]
  },
  {
   "cell_type": "code",
   "execution_count": 11,
   "metadata": {},
   "outputs": [
    {
     "name": "stdout",
     "output_type": "stream",
     "text": [
      "Minute\n",
      "50\n",
      "Hour\n",
      "23\n",
      "Day\n",
      "31\n",
      "Month\n",
      "12\n",
      "Year\n",
      "2018\n",
      "Wind Speed (m/s)\n",
      "5.31\n",
      "Theoretical_Power_Curve (KWh)\n",
      "416.32\n",
      "Wind Direction\n",
      "260\n",
      "maxtempC\n",
      "10\n",
      "windGustKmph\n",
      "11\n",
      "DewPointC\n",
      "3\n",
      "windChillC\n",
      "6\n",
      "humidity\n",
      "70\n",
      "pressure\n",
      "1017\n"
     ]
    }
   ],
   "source": [
    "# Taking user input\n",
    "a = []\n",
    "for i in range(len(inputs)):\n",
    "    print(inputs[i])\n",
    "    a.append(input())"
   ]
  },
  {
   "cell_type": "code",
   "execution_count": 12,
   "metadata": {},
   "outputs": [],
   "source": [
    "# Preprocesing the input\n",
    "a = np.array(a)\n",
    "a = a.astype('float64')\n",
    "a = a.reshape(1, -1)"
   ]
  },
  {
   "cell_type": "code",
   "execution_count": 13,
   "metadata": {},
   "outputs": [
    {
     "name": "stdout",
     "output_type": "stream",
     "text": [
      "LV ActivePower = [2775.9265]\n"
     ]
    }
   ],
   "source": [
    "# prediction of result\n",
    "result = xgbr.predict(a)\n",
    "print('LV ActivePower =',result)"
   ]
  },
  {
   "cell_type": "markdown",
   "metadata": {},
   "source": [
    "# Deployment of Model"
   ]
  },
  {
   "cell_type": "markdown",
   "metadata": {},
   "source": [
    "## For Feature Scaling"
   ]
  },
  {
   "cell_type": "code",
   "execution_count": 14,
   "metadata": {},
   "outputs": [
    {
     "name": "stderr",
     "output_type": "stream",
     "text": [
      "2020-07-15 04:16:17,979 - watson_machine_learning_client.metanames - WARNING - 'AUTHOR_EMAIL' meta prop is deprecated. It will be ignored.\n",
      "2020-07-15 04:17:24,657 - watson_machine_learning_client.metanames - WARNING - 'AUTHOR_EMAIL' meta prop is deprecated. It will be ignored.\n"
     ]
    }
   ],
   "source": [
    "from watson_machine_learning_client import WatsonMachineLearningAPIClient"
   ]
  },
  {
   "cell_type": "code",
   "execution_count": 15,
   "metadata": {},
   "outputs": [],
   "source": [
    "feature_scaling = {\n",
    "  \"apikey\": \"FjGRsj0RfO9D1oQ4iSF9Txh2M4Eudeak_RK-0AscWPnQ\",\n",
    "  \"iam_apikey_description\": \"Auto-generated for key 8c3e33f6-af44-4a96-823f-b59d2098d13c\",\n",
    "  \"iam_apikey_name\": \"Service credentials-2\",\n",
    "  \"iam_role_crn\": \"crn:v1:bluemix:public:iam::::serviceRole:Writer\",\n",
    "  \"iam_serviceid_crn\": \"crn:v1:bluemix:public:iam-identity::a/5e7c88de3bb9498ba003e31b3b4331f0::serviceid:ServiceId-e84a71fc-7172-4d1f-8d56-95cc7789671c\",\n",
    "  \"instance_id\": \"add6b7cd-7881-485c-b8bf-2a625e8a2335\",\n",
    "  \"url\": \"https://eu-gb.ml.cloud.ibm.com\"\n",
    "}"
   ]
  },
  {
   "cell_type": "code",
   "execution_count": 16,
   "metadata": {},
   "outputs": [],
   "source": [
    "feature = WatsonMachineLearningAPIClient(feature_scaling)"
   ]
  },
  {
   "cell_type": "code",
   "execution_count": 17,
   "metadata": {},
   "outputs": [],
   "source": [
    "metadata = {\n",
    "    feature.repository.ModelMetaNames.AUTHOR_NAME : \"MaheshTheng\",\n",
    "    feature.repository.ModelMetaNames.AUTHOR_EMAIL : \"mahesh.theng@gmail.com\",\n",
    "    feature.repository.ModelMetaNames.NAME : \"feature_scaling\"\n",
    "}"
   ]
  },
  {
   "cell_type": "code",
   "execution_count": 18,
   "metadata": {},
   "outputs": [],
   "source": [
    "stored_data = feature.repository.store_model(sc_X, meta_props = metadata)"
   ]
  },
  {
   "cell_type": "code",
   "execution_count": 19,
   "metadata": {},
   "outputs": [],
   "source": [
    "guid = feature.repository.get_model_uid(stored_data)"
   ]
  },
  {
   "cell_type": "code",
   "execution_count": 20,
   "metadata": {},
   "outputs": [
    {
     "data": {
      "text/plain": [
       "'ef323d76-229a-4dcf-8fd0-e390adbcdfb6'"
      ]
     },
     "execution_count": 20,
     "metadata": {},
     "output_type": "execute_result"
    }
   ],
   "source": [
    "guid"
   ]
  },
  {
   "cell_type": "code",
   "execution_count": 21,
   "metadata": {},
   "outputs": [
    {
     "name": "stdout",
     "output_type": "stream",
     "text": [
      "\n",
      "\n",
      "#######################################################################################\n",
      "\n",
      "Synchronous deployment creation for uid: 'ef323d76-229a-4dcf-8fd0-e390adbcdfb6' started\n",
      "\n",
      "#######################################################################################\n",
      "\n",
      "\n",
      "INITIALIZING\n",
      "DEPLOY_SUCCESS\n",
      "\n",
      "\n",
      "------------------------------------------------------------------------------------------------\n",
      "Successfully finished deployment creation, deployment_uid='65ab8dd6-b526-40d0-bf86-255c60ea6543'\n",
      "------------------------------------------------------------------------------------------------\n",
      "\n",
      "\n"
     ]
    }
   ],
   "source": [
    "deploy = feature.deployments.create(guid)"
   ]
  },
  {
   "cell_type": "code",
   "execution_count": 22,
   "metadata": {},
   "outputs": [
    {
     "name": "stdout",
     "output_type": "stream",
     "text": [
      "------------------------------------  -------------------  ------  --------------  ------------------------  -----------------  -------------\n",
      "GUID                                  NAME                 TYPE    STATE           CREATED                   FRAMEWORK          ARTIFACT TYPE\n",
      "65ab8dd6-b526-40d0-bf86-255c60ea6543  Artifact deployment  online  DEPLOY_SUCCESS  2020-07-15T04:16:29.955Z  scikit-learn-0.19  model\n",
      "2590f8a2-9dfa-405c-b16d-d1a1c7a5f133  Artifact deployment  online  DEPLOY_SUCCESS  2020-07-14T05:17:02.532Z  scikit-learn-0.19  model\n",
      "------------------------------------  -------------------  ------  --------------  ------------------------  -----------------  -------------\n"
     ]
    }
   ],
   "source": [
    "feature.deployments.list()"
   ]
  },
  {
   "cell_type": "code",
   "execution_count": 23,
   "metadata": {},
   "outputs": [],
   "source": [
    "scoring_endpoint = feature.deployments.get_scoring_url(deploy)"
   ]
  },
  {
   "cell_type": "code",
   "execution_count": 24,
   "metadata": {},
   "outputs": [
    {
     "data": {
      "text/plain": [
       "'https://eu-gb.ml.cloud.ibm.com/v3/wml_instances/add6b7cd-7881-485c-b8bf-2a625e8a2335/deployments/65ab8dd6-b526-40d0-bf86-255c60ea6543/online'"
      ]
     },
     "execution_count": 24,
     "metadata": {},
     "output_type": "execute_result"
    }
   ],
   "source": [
    "scoring_endpoint"
   ]
  },
  {
   "cell_type": "markdown",
   "metadata": {},
   "source": [
    "## For Model Deployment"
   ]
  },
  {
   "cell_type": "code",
   "execution_count": 25,
   "metadata": {},
   "outputs": [],
   "source": [
    "from watson_machine_learning_client import WatsonMachineLearningAPIClient"
   ]
  },
  {
   "cell_type": "code",
   "execution_count": 26,
   "metadata": {},
   "outputs": [],
   "source": [
    "model = {\n",
    "  \"apikey\": \"G5zJMG7FVoEnfJ1c6Znz4MVfbXN2mkVlHc-dN_K2mmuh\",\n",
    "  \"iam_apikey_description\": \"Auto-generated for key 9e5d0dc9-ff8d-4ad7-a8ff-0d6a16ace06e\",\n",
    "  \"iam_apikey_name\": \"Service credentials-3\",\n",
    "  \"iam_role_crn\": \"crn:v1:bluemix:public:iam::::serviceRole:Writer\",\n",
    "  \"iam_serviceid_crn\": \"crn:v1:bluemix:public:iam-identity::a/5e7c88de3bb9498ba003e31b3b4331f0::serviceid:ServiceId-9a364dec-bf99-4098-b074-1af23334fdec\",\n",
    "  \"instance_id\": \"add6b7cd-7881-485c-b8bf-2a625e8a2335\",\n",
    "  \"url\": \"https://eu-gb.ml.cloud.ibm.com\"\n",
    "}"
   ]
  },
  {
   "cell_type": "code",
   "execution_count": 27,
   "metadata": {},
   "outputs": [],
   "source": [
    "model = WatsonMachineLearningAPIClient(model)"
   ]
  },
  {
   "cell_type": "code",
   "execution_count": 28,
   "metadata": {},
   "outputs": [],
   "source": [
    "metadata = {\n",
    "    model.repository.ModelMetaNames.AUTHOR_NAME : \"Mahesh\",\n",
    "    model.repository.ModelMetaNames.AUTHOR_EMAIL : \"mahesh.theng@gmail.com\",\n",
    "    model.repository.ModelMetaNames.NAME : \"ML_Model\"\n",
    "}"
   ]
  },
  {
   "cell_type": "code",
   "execution_count": 29,
   "metadata": {},
   "outputs": [],
   "source": [
    "stored_data = model.repository.store_model(xgbr, meta_props = metadata)"
   ]
  },
  {
   "cell_type": "code",
   "execution_count": 30,
   "metadata": {},
   "outputs": [],
   "source": [
    "guid = model.repository.get_model_uid(stored_data)"
   ]
  },
  {
   "cell_type": "code",
   "execution_count": 31,
   "metadata": {},
   "outputs": [
    {
     "data": {
      "text/plain": [
       "'ddf80817-3ee7-4038-9efc-4c83fab00875'"
      ]
     },
     "execution_count": 31,
     "metadata": {},
     "output_type": "execute_result"
    }
   ],
   "source": [
    "guid"
   ]
  },
  {
   "cell_type": "code",
   "execution_count": 32,
   "metadata": {},
   "outputs": [
    {
     "name": "stdout",
     "output_type": "stream",
     "text": [
      "\n",
      "\n",
      "#######################################################################################\n",
      "\n",
      "Synchronous deployment creation for uid: 'ddf80817-3ee7-4038-9efc-4c83fab00875' started\n",
      "\n",
      "#######################################################################################\n",
      "\n",
      "\n",
      "INITIALIZING\n",
      "DEPLOY_SUCCESS\n",
      "\n",
      "\n",
      "------------------------------------------------------------------------------------------------\n",
      "Successfully finished deployment creation, deployment_uid='eb529457-ae7c-48ac-8bcb-60fe841045ff'\n",
      "------------------------------------------------------------------------------------------------\n",
      "\n",
      "\n"
     ]
    }
   ],
   "source": [
    "deploy = model.deployments.create(guid)"
   ]
  },
  {
   "cell_type": "code",
   "execution_count": 33,
   "metadata": {},
   "outputs": [
    {
     "name": "stdout",
     "output_type": "stream",
     "text": [
      "------------------------------------  -------------------  ------  --------------  ------------------------  -----------------  -------------\n",
      "GUID                                  NAME                 TYPE    STATE           CREATED                   FRAMEWORK          ARTIFACT TYPE\n",
      "eb529457-ae7c-48ac-8bcb-60fe841045ff  Artifact deployment  online  DEPLOY_SUCCESS  2020-07-15T04:17:36.713Z  scikit-learn-0.19  model\n",
      "65ab8dd6-b526-40d0-bf86-255c60ea6543  Artifact deployment  online  DEPLOY_SUCCESS  2020-07-15T04:16:29.955Z  scikit-learn-0.19  model\n",
      "2590f8a2-9dfa-405c-b16d-d1a1c7a5f133  Artifact deployment  online  DEPLOY_SUCCESS  2020-07-14T05:17:02.532Z  scikit-learn-0.19  model\n",
      "------------------------------------  -------------------  ------  --------------  ------------------------  -----------------  -------------\n"
     ]
    }
   ],
   "source": [
    "model.deployments.list()"
   ]
  },
  {
   "cell_type": "code",
   "execution_count": 23,
   "metadata": {},
   "outputs": [],
   "source": [
    "scoring_endpoint = model.deployments.get_scoring_url(deploy)"
   ]
  },
  {
   "cell_type": "code",
   "execution_count": 24,
   "metadata": {},
   "outputs": [
    {
     "data": {
      "text/plain": [
       "'https://eu-gb.ml.cloud.ibm.com/v3/wml_instances/add6b7cd-7881-485c-b8bf-2a625e8a2335/deployments/2590f8a2-9dfa-405c-b16d-d1a1c7a5f133/online'"
      ]
     },
     "execution_count": 24,
     "metadata": {},
     "output_type": "execute_result"
    }
   ],
   "source": [
    "scoring_endpoint"
   ]
  },
  {
   "cell_type": "raw",
   "metadata": {},
   "source": [
    "# for delete deployment\n",
    "model.deployments.delete('guid')"
   ]
  },
  {
   "cell_type": "code",
   "execution_count": null,
   "metadata": {},
   "outputs": [],
   "source": []
  }
 ],
 "metadata": {
  "kernelspec": {
   "display_name": "Python 3",
   "language": "python",
   "name": "python3"
  },
  "language_info": {
   "codemirror_mode": {
    "name": "ipython",
    "version": 3
   },
   "file_extension": ".py",
   "mimetype": "text/x-python",
   "name": "python",
   "nbconvert_exporter": "python",
   "pygments_lexer": "ipython3",
   "version": "3.7.0"
  }
 },
 "nbformat": 4,
 "nbformat_minor": 1
}
